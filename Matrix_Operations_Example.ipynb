{
  "nbformat": 4,
  "nbformat_minor": 0,
  "metadata": {
    "colab": {
      "name": "Matrix_Operations Example.ipynb",
      "version": "0.3.2",
      "provenance": [],
      "collapsed_sections": [],
      "include_colab_link": true
    },
    "kernelspec": {
      "name": "python3",
      "display_name": "Python 3"
    }
  },
  "cells": [
    {
      "cell_type": "markdown",
      "metadata": {
        "id": "view-in-github",
        "colab_type": "text"
      },
      "source": [
        "<a href=\"https://colab.research.google.com/github/madhu9sudhana/Python_Examples/blob/master/Matrix_Operations_Example.ipynb\" target=\"_parent\"><img src=\"https://colab.research.google.com/assets/colab-badge.svg\" alt=\"Open In Colab\"/></a>"
      ]
    },
    {
      "metadata": {
        "id": "_MfXsW9r5M2A",
        "colab_type": "text"
      },
      "cell_type": "markdown",
      "source": [
        "# Basic Matrix Operations \n",
        "### Functions written in Python without directly using Numpy\n",
        "\n",
        "\n",
        "1. Matrix Addition\n",
        "2. Matrix Subtraction\n",
        "3. Matrix Multiplication\n",
        "4. Matrix Transpose\n",
        "5. Determinant of Matrix\n",
        "6. Matrix Inverse"
      ]
    },
    {
      "metadata": {
        "id": "1Y0XwYI05yvg",
        "colab_type": "code",
        "colab": {}
      },
      "cell_type": "code",
      "source": [
        "import pandas as pd\n",
        "import numpy as np\n",
        "import os\n",
        "\n",
        "def Nmul(x,y):\n",
        "  if x.shape[1] == y.shape[0]:\n",
        "    z = []\n",
        "    for i in range(0,len(x)):\n",
        "      temp=[]\n",
        "      for j in range(0,len(y[0])):\n",
        "          s = 0\n",
        "          for k in range(0,len(x[0])):\n",
        "              s += x[i][k]*y[k][j]\n",
        "          temp.append(s)\n",
        "      z.append(temp)\n",
        "    z = np.asarray(z)\n",
        "    return z\n",
        "  else:\n",
        "    return print(\"Matrix muliplication is not possible\")\n",
        "  \n",
        "def Nadd(x,y):\n",
        "  if x.shape[1] == y.shape[0]:\n",
        "    z = []\n",
        "    for i in range(0,len(x)):\n",
        "      temp=[]\n",
        "      for j in range(0,len(y[0])):\n",
        "          s = 0\n",
        "          for k in range(0,len(x[0])):\n",
        "            s = x[i][j]+y[i][j]\n",
        "          temp.append(s)\n",
        "      z.append(temp)\n",
        "    z = np.asarray(z)\n",
        "    return z\n",
        "  else:\n",
        "    return print(\"Matrix addition is not possible\")\n",
        "  \n",
        "def Nsub(x,y):\n",
        "  if x.shape[1] == y.shape[0]:\n",
        "      z = []\n",
        "      for i in range(0,len(x)):\n",
        "        temp=[]\n",
        "        for j in range(0,len(y[0])):\n",
        "            s = 0\n",
        "            for k in range(0,len(x[0])):\n",
        "                s = x[i][j]-y[i][j]\n",
        "            temp.append(s)\n",
        "        z.append(temp)\n",
        "      z = np.asarray(z)\n",
        "      return z\n",
        "  else:\n",
        "      return print(\"Matrix Subtraction is not possible\")\n",
        "    \n",
        "def Ntran(x):\n",
        "  rez = [[x[j][i] for j in range(len(x))] for i in range(len(x[0]))] \n",
        "  rez = np.asarray(rez)\n",
        "  return(rez)\n",
        "\n",
        "def transposeMatrix(m):\n",
        "    return map(list,zip(*m))\n",
        "\n",
        "def getMatrixMinor(m,i,j):\n",
        "    return [row[:j] + row[j+1:] for row in (m[:i]+m[i+1:])]\n",
        "\n",
        "def NMatrixDeternminant(m):\n",
        "    #base case for 2x2 matrix\n",
        "    if len(m) == 2:\n",
        "        return m[0][0]*m[1][1]-m[0][1]*m[1][0]\n",
        "\n",
        "    determinant = 0\n",
        "    for c in range(len(m)):\n",
        "        determinant += ((-1)**c)*m[0][c]*NMatrixDeternminant(getMatrixMinor(m,0,c))\n",
        "    return determinant\n",
        "\n",
        "def NMatrixInverse(m):\n",
        "    determinant = NMatrixDeternminant(m)\n",
        "    #special case for 2x2 matrix:\n",
        "    if len(m) == 2:\n",
        "        return [[m[1][1]/determinant, -1*m[0][1]/determinant],\n",
        "                [-1*m[1][0]/determinant, m[0][0]/determinant]]\n",
        "\n",
        "    #find matrix of cofactors\n",
        "    cofactors = []\n",
        "    for r in range(len(m)):\n",
        "        cofactorRow = []\n",
        "        for c in range(len(m)):\n",
        "            minor = getMatrixMinor(m,r,c)\n",
        "            cofactorRow.append(((-1)**(r+c)) * NMatrixDeternminant(minor))\n",
        "        cofactors.append(cofactorRow)\n",
        "    cofactors = transposeMatrix(cofactors)\n",
        "    for r in range(len(cofactors)):\n",
        "        for c in range(len(cofactors)):\n",
        "            cofactors[r][c] = cofactors[r][c]/determinant\n",
        "    return cofactors"
      ],
      "execution_count": 0,
      "outputs": []
    },
    {
      "metadata": {
        "id": "oy-CpBvuDUs5",
        "colab_type": "text"
      },
      "cell_type": "markdown",
      "source": [
        "### Define some matrices as examples"
      ]
    },
    {
      "metadata": {
        "id": "7XudHk4P6rBC",
        "colab_type": "code",
        "outputId": "5dd355c2-c375-4f33-b7e6-7f198bfc802e",
        "colab": {
          "base_uri": "https://localhost:8080/",
          "height": 181
        }
      },
      "cell_type": "code",
      "source": [
        "x = np.array( ((2,3), (4, 5)) )\n",
        "y = np.array( ((1,2), (5, -1)) )\n",
        "w = np.array( ((1,2,5), (5, -1,6), (3, 5,3)) )\n",
        "\n",
        "print(x, '\\n\\n', y, '\\n\\n', w)"
      ],
      "execution_count": 0,
      "outputs": [
        {
          "output_type": "stream",
          "text": [
            "[[2 3]\n",
            " [4 5]] \n",
            "\n",
            " [[ 1  2]\n",
            " [ 5 -1]] \n",
            "\n",
            " [[ 1  2  5]\n",
            " [ 5 -1  6]\n",
            " [ 3  5  3]]\n"
          ],
          "name": "stdout"
        }
      ]
    },
    {
      "metadata": {
        "id": "A59UJDt0BSAm",
        "colab_type": "text"
      },
      "cell_type": "markdown",
      "source": [
        "## Matrix Operations : Addition"
      ]
    },
    {
      "metadata": {
        "id": "DKUZKGrG7Drb",
        "colab_type": "code",
        "outputId": "b36cb824-7215-4190-9091-8f232e7a7558",
        "colab": {
          "base_uri": "https://localhost:8080/",
          "height": 90
        }
      },
      "cell_type": "code",
      "source": [
        "print(Nadd(x, y))\n",
        "print(x+y)"
      ],
      "execution_count": 0,
      "outputs": [
        {
          "output_type": "stream",
          "text": [
            "[[3 5]\n",
            " [9 4]]\n",
            "[[3 5]\n",
            " [9 4]]\n"
          ],
          "name": "stdout"
        }
      ]
    },
    {
      "metadata": {
        "id": "dg4Sm8cbBT12",
        "colab_type": "text"
      },
      "cell_type": "markdown",
      "source": [
        "## Matrix Operations : Subtraction"
      ]
    },
    {
      "metadata": {
        "id": "YL-QEtDM_l0n",
        "colab_type": "code",
        "outputId": "bc5ac97c-2fc9-4684-f782-80d3cb4a5016",
        "colab": {
          "base_uri": "https://localhost:8080/",
          "height": 54
        }
      },
      "cell_type": "code",
      "source": [
        "Nsub(x,y)"
      ],
      "execution_count": 0,
      "outputs": [
        {
          "output_type": "execute_result",
          "data": {
            "text/plain": [
              "array([[ 1,  1],\n",
              "       [-1,  6]])"
            ]
          },
          "metadata": {
            "tags": []
          },
          "execution_count": 13
        }
      ]
    },
    {
      "metadata": {
        "id": "VtlwiqpNBY7e",
        "colab_type": "text"
      },
      "cell_type": "markdown",
      "source": [
        "## Matrix Multiplication"
      ]
    },
    {
      "metadata": {
        "id": "MUjATY0--8yY",
        "colab_type": "code",
        "outputId": "ca427043-74ba-4b0d-83eb-d2a94e0a460d",
        "colab": {
          "base_uri": "https://localhost:8080/",
          "height": 54
        }
      },
      "cell_type": "code",
      "source": [
        "Nmul(x, y)"
      ],
      "execution_count": 0,
      "outputs": [
        {
          "output_type": "execute_result",
          "data": {
            "text/plain": [
              "array([[17,  1],\n",
              "       [29,  3]])"
            ]
          },
          "metadata": {
            "tags": []
          },
          "execution_count": 14
        }
      ]
    },
    {
      "metadata": {
        "id": "OVx4hSNsBZB0",
        "colab_type": "text"
      },
      "cell_type": "markdown",
      "source": [
        "## Matrix Transpose\n"
      ]
    },
    {
      "metadata": {
        "id": "o__WKCBnB-ws",
        "colab_type": "code",
        "outputId": "9534a3a3-8ac6-4cd1-ead7-7a9847c0202d",
        "colab": {
          "base_uri": "https://localhost:8080/",
          "height": 54
        }
      },
      "cell_type": "code",
      "source": [
        "Ntran(x)"
      ],
      "execution_count": 0,
      "outputs": [
        {
          "output_type": "execute_result",
          "data": {
            "text/plain": [
              "array([[2, 4],\n",
              "       [3, 5]])"
            ]
          },
          "metadata": {
            "tags": []
          },
          "execution_count": 15
        }
      ]
    },
    {
      "metadata": {
        "id": "_CukOuPfBZIE",
        "colab_type": "text"
      },
      "cell_type": "markdown",
      "source": [
        "##Determinant of Matrix"
      ]
    },
    {
      "metadata": {
        "id": "Hz6r21DO-lwA",
        "colab_type": "code",
        "outputId": "8f2ab40c-289e-41c6-eda9-5d09048a78e0",
        "colab": {
          "base_uri": "https://localhost:8080/",
          "height": 35
        }
      },
      "cell_type": "code",
      "source": [
        "NMatrixDeternminant(x)"
      ],
      "execution_count": 0,
      "outputs": [
        {
          "output_type": "execute_result",
          "data": {
            "text/plain": [
              "-2"
            ]
          },
          "metadata": {
            "tags": []
          },
          "execution_count": 16
        }
      ]
    },
    {
      "metadata": {
        "id": "Ku0GgZ5mBZTJ",
        "colab_type": "text"
      },
      "cell_type": "markdown",
      "source": [
        "## Matrix Inverse"
      ]
    },
    {
      "metadata": {
        "id": "yFY3nDxJAWDm",
        "colab_type": "code",
        "outputId": "be820fae-4706-45f6-9ccd-5d3999e0a8b1",
        "colab": {
          "base_uri": "https://localhost:8080/",
          "height": 54
        }
      },
      "cell_type": "code",
      "source": [
        "np.asarray(NMatrixInverse(x))"
      ],
      "execution_count": 0,
      "outputs": [
        {
          "output_type": "execute_result",
          "data": {
            "text/plain": [
              "array([[-2.5,  1.5],\n",
              "       [ 2. , -1. ]])"
            ]
          },
          "metadata": {
            "tags": []
          },
          "execution_count": 17
        }
      ]
    }
  ]
}