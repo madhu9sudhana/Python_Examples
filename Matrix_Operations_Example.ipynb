{
  "nbformat": 4,
  "nbformat_minor": 0,
  "metadata": {
    "colab": {
      "name": "Matrix_Operations Example.ipynb",
      "version": "0.3.2",
      "provenance": [],
      "collapsed_sections": [],
      "include_colab_link": true
    },
    "kernelspec": {
      "name": "python3",
      "display_name": "Python 3"
    }
  },
  "cells": [
    {
      "cell_type": "markdown",
      "metadata": {
        "id": "view-in-github",
        "colab_type": "text"
      },
      "source": [
        "<a href=\"https://colab.research.google.com/github/madhu9sudhana/Python_Examples/blob/master/Matrix_Operations_Example.ipynb\" target=\"_parent\"><img src=\"https://colab.research.google.com/assets/colab-badge.svg\" alt=\"Open In Colab\"/></a>"
      ]
    },
    {
      "metadata": {
        "id": "_MfXsW9r5M2A",
        "colab_type": "text"
      },
      "cell_type": "markdown",
      "source": [
        "# Basic Matrix Operations \n",
        "### Functions written in Python without directly using Numpy\n",
        "\n",
        "\n",
        "1. Matrix Addition\n",
        "2. Matix Subtraction\n",
        "3. Matrix Multiplication\n",
        "4. Matix Transpose\n",
        "5. Detirminant of Matrix\n",
        "6. Matix Inverse\n",
        "\n",
        "\n"
      ]
    },
    {
      "metadata": {
        "id": "1Y0XwYI05yvg",
        "colab_type": "code",
        "colab": {}
      },
      "cell_type": "code",
      "source": [
        "import pandas as pd\n",
        "import numpy as np\n",
        "import os\n",
        "\n",
        "def Nmul(x,y):\n",
        "  if x.shape[1] == y.shape[0]:\n",
        "    z = []\n",
        "    for i in range(0,len(x)):\n",
        "      temp=[]\n",
        "      for j in range(0,len(y[0])):\n",
        "          s = 0\n",
        "          for k in range(0,len(x[0])):\n",
        "              s += x[i][k]*y[k][j]\n",
        "          temp.append(s)\n",
        "      z.append(temp)\n",
        "    z = np.asarray(z)\n",
        "    return z\n",
        "  else:\n",
        "    return print(\"Matrix muliplication is not possible\")\n",
        "  \n",
        "def Nadd(x,y):\n",
        "  if x.shape[1] == y.shape[0]:\n",
        "    z = []\n",
        "    for i in range(0,len(x)):\n",
        "      temp=[]\n",
        "      for j in range(0,len(y[0])):\n",
        "          s = 0\n",
        "          for k in range(0,len(x[0])):\n",
        "            s = x[i][j]+y[i][j]\n",
        "          temp.append(s)\n",
        "      z.append(temp)\n",
        "    z = np.asarray(z)\n",
        "    return z\n",
        "  else:\n",
        "    return print(\"Matrix addition is not possible\")\n",
        "  \n",
        "def Nsub(x,y):\n",
        "  if x.shape[1] == y.shape[0]:\n",
        "      z = []\n",
        "      for i in range(0,len(x)):\n",
        "        temp=[]\n",
        "        for j in range(0,len(y[0])):\n",
        "            s = 0\n",
        "            for k in range(0,len(x[0])):\n",
        "                s = x[i][j]-y[i][j]\n",
        "            temp.append(s)\n",
        "        z.append(temp)\n",
        "      z = np.asarray(z)\n",
        "      return z\n",
        "  else:\n",
        "      return print(\"Matrix Subtraction is not possible\")\n",
        "    \n",
        "def Ntran(x):\n",
        "  rez = [[x[j][i] for j in range(len(x))] for i in range(len(x[0]))] \n",
        "  rez = np.asarray(rez)\n",
        "  return(rez)\n",
        "\n",
        "def transposeMatrix(m):\n",
        "    return map(list,zip(*m))\n",
        "\n",
        "def getMatrixMinor(m,i,j):\n",
        "    return [row[:j] + row[j+1:] for row in (m[:i]+m[i+1:])]\n",
        "\n",
        "def NMatrixDeternminant(m):\n",
        "    #base case for 2x2 matrix\n",
        "    if len(m) == 2:\n",
        "        return m[0][0]*m[1][1]-m[0][1]*m[1][0]\n",
        "\n",
        "    determinant = 0\n",
        "    for c in range(len(m)):\n",
        "        determinant += ((-1)**c)*m[0][c]*NMatrixDeternminant(getMatrixMinor(m,0,c))\n",
        "    return determinant\n",
        "\n",
        "def NMatrixInverse(m):\n",
        "    determinant = NMatrixDeternminant(m)\n",
        "    #special case for 2x2 matrix:\n",
        "    if len(m) == 2:\n",
        "        return [[m[1][1]/determinant, -1*m[0][1]/determinant],\n",
        "                [-1*m[1][0]/determinant, m[0][0]/determinant]]\n",
        "\n",
        "    #find matrix of cofactors\n",
        "    cofactors = []\n",
        "    for r in range(len(m)):\n",
        "        cofactorRow = []\n",
        "        for c in range(len(m)):\n",
        "            minor = getMatrixMinor(m,r,c)\n",
        "            cofactorRow.append(((-1)**(r+c)) * NMatrixDeternminant(minor))\n",
        "        cofactors.append(cofactorRow)\n",
        "    cofactors = transposeMatrix(cofactors)\n",
        "    for r in range(len(cofactors)):\n",
        "        for c in range(len(cofactors)):\n",
        "            cofactors[r][c] = cofactors[r][c]/determinant\n",
        "    return cofactors"
      ],
      "execution_count": 0,
      "outputs": []
    },
    {
      "metadata": {
        "id": "oy-CpBvuDUs5",
        "colab_type": "text"
      },
      "cell_type": "markdown",
      "source": [
        "### Define some matrices as examples"
      ]
    },
    {
      "metadata": {
        "id": "7XudHk4P6rBC",
        "colab_type": "code",
        "colab": {
          "base_uri": "https://localhost:8080/",
          "height": 168
        },
        "outputId": "d47eed2b-feb0-436a-e240-292d996d9c10"
      },
      "cell_type": "code",
      "source": [
        "x = np.array( ((2,3), (4, 5)) )\n",
        "y = np.array( ((1,2), (5, -1)) )\n",
        "w = np.array( ((1,2,5), (5, -1,6), (3, 5,3)) )\n",
        "\n",
        "print(x, '\\n\\n', y, '\\n\\n', w)"
      ],
      "execution_count": 10,
      "outputs": [
        {
          "output_type": "stream",
          "text": [
            "[[2 3]\n",
            " [4 5]] \n",
            "\n",
            " [[ 1  2]\n",
            " [ 5 -1]] \n",
            "\n",
            " [[ 1  2  5]\n",
            " [ 5 -1  6]\n",
            " [ 3  5  3]]\n"
          ],
          "name": "stdout"
        }
      ]
    },
    {
      "metadata": {
        "id": "A59UJDt0BSAm",
        "colab_type": "text"
      },
      "cell_type": "markdown",
      "source": [
        "## Matrix Operations : Addition"
      ]
    },
    {
      "metadata": {
        "id": "DKUZKGrG7Drb",
        "colab_type": "code",
        "colab": {
          "base_uri": "https://localhost:8080/",
          "height": 50
        },
        "outputId": "20fe863f-1266-4107-dff7-b8605d6bcd02"
      },
      "cell_type": "code",
      "source": [
        "Nadd(x, y)"
      ],
      "execution_count": 11,
      "outputs": [
        {
          "output_type": "execute_result",
          "data": {
            "text/plain": [
              "array([[3, 5],\n",
              "       [9, 4]])"
            ]
          },
          "metadata": {
            "tags": []
          },
          "execution_count": 11
        }
      ]
    },
    {
      "metadata": {
        "id": "dg4Sm8cbBT12",
        "colab_type": "text"
      },
      "cell_type": "markdown",
      "source": [
        "## Matrix Operations : Subtraction"
      ]
    },
    {
      "metadata": {
        "id": "YL-QEtDM_l0n",
        "colab_type": "code",
        "colab": {
          "base_uri": "https://localhost:8080/",
          "height": 50
        },
        "outputId": "3b55e8ca-ad99-4930-a996-4adc24a993c7"
      },
      "cell_type": "code",
      "source": [
        "Nsub(x,y)"
      ],
      "execution_count": 12,
      "outputs": [
        {
          "output_type": "execute_result",
          "data": {
            "text/plain": [
              "array([[ 1,  1],\n",
              "       [-1,  6]])"
            ]
          },
          "metadata": {
            "tags": []
          },
          "execution_count": 12
        }
      ]
    },
    {
      "metadata": {
        "id": "VtlwiqpNBY7e",
        "colab_type": "text"
      },
      "cell_type": "markdown",
      "source": [
        "## Matrix Multiplication"
      ]
    },
    {
      "metadata": {
        "id": "MUjATY0--8yY",
        "colab_type": "code",
        "colab": {
          "base_uri": "https://localhost:8080/",
          "height": 50
        },
        "outputId": "bfb24fdc-1a4e-4033-a012-16a1ff57a5c1"
      },
      "cell_type": "code",
      "source": [
        "Nmul(x, y)"
      ],
      "execution_count": 13,
      "outputs": [
        {
          "output_type": "execute_result",
          "data": {
            "text/plain": [
              "array([[17,  1],\n",
              "       [29,  3]])"
            ]
          },
          "metadata": {
            "tags": []
          },
          "execution_count": 13
        }
      ]
    },
    {
      "metadata": {
        "id": "OVx4hSNsBZB0",
        "colab_type": "text"
      },
      "cell_type": "markdown",
      "source": [
        "## Matix Transpose"
      ]
    },
    {
      "metadata": {
        "id": "o__WKCBnB-ws",
        "colab_type": "code",
        "colab": {
          "base_uri": "https://localhost:8080/",
          "height": 50
        },
        "outputId": "797aadbc-1f45-4d57-cc82-ba45f2fd2529"
      },
      "cell_type": "code",
      "source": [
        "Ntran(x)"
      ],
      "execution_count": 14,
      "outputs": [
        {
          "output_type": "execute_result",
          "data": {
            "text/plain": [
              "array([[2, 4],\n",
              "       [3, 5]])"
            ]
          },
          "metadata": {
            "tags": []
          },
          "execution_count": 14
        }
      ]
    },
    {
      "metadata": {
        "id": "_CukOuPfBZIE",
        "colab_type": "text"
      },
      "cell_type": "markdown",
      "source": [
        "##Detirminant of Matrix"
      ]
    },
    {
      "metadata": {
        "id": "Hz6r21DO-lwA",
        "colab_type": "code",
        "colab": {
          "base_uri": "https://localhost:8080/",
          "height": 34
        },
        "outputId": "117d5664-011b-462a-8a4d-d19d9986fb85"
      },
      "cell_type": "code",
      "source": [
        "NMatrixDeternminant(x)"
      ],
      "execution_count": 15,
      "outputs": [
        {
          "output_type": "execute_result",
          "data": {
            "text/plain": [
              "-2"
            ]
          },
          "metadata": {
            "tags": []
          },
          "execution_count": 15
        }
      ]
    },
    {
      "metadata": {
        "id": "Ku0GgZ5mBZTJ",
        "colab_type": "text"
      },
      "cell_type": "markdown",
      "source": [
        "## Matix Inverse"
      ]
    },
    {
      "metadata": {
        "id": "yFY3nDxJAWDm",
        "colab_type": "code",
        "colab": {
          "base_uri": "https://localhost:8080/",
          "height": 50
        },
        "outputId": "0a05d20b-f596-4020-de25-ea1e5c388108"
      },
      "cell_type": "code",
      "source": [
        "np.asarray(NMatrixInverse(x))"
      ],
      "execution_count": 16,
      "outputs": [
        {
          "output_type": "execute_result",
          "data": {
            "text/plain": [
              "array([[-2.5,  1.5],\n",
              "       [ 2. , -1. ]])"
            ]
          },
          "metadata": {
            "tags": []
          },
          "execution_count": 16
        }
      ]
    }
  ]
}