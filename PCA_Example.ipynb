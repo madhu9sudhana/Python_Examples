{
  "nbformat": 4,
  "nbformat_minor": 0,
  "metadata": {
    "colab": {
      "name": "PCA_Example.ipynb",
      "version": "0.3.2",
      "provenance": [],
      "collapsed_sections": [],
      "include_colab_link": true
    },
    "kernelspec": {
      "name": "python3",
      "display_name": "Python 3"
    }
  },
  "cells": [
    {
      "cell_type": "markdown",
      "metadata": {
        "id": "view-in-github",
        "colab_type": "text"
      },
      "source": [
        "<a href=\"https://colab.research.google.com/github/madhu9sudhana/Python_Examples/blob/master/PCA_Example.ipynb\" target=\"_parent\"><img src=\"https://colab.research.google.com/assets/colab-badge.svg\" alt=\"Open In Colab\"/></a>"
      ]
    },
    {
      "metadata": {
        "id": "HP4ZrFYoZ9wl",
        "colab_type": "text"
      },
      "cell_type": "markdown",
      "source": [
        "#Programming Project on PCA\n",
        "\n",
        "## Steps in PCA\n",
        "1. Select Independent variables\n",
        "2. Standard scaling the data\n",
        "3. Generate Covariance Matrix of the scaled data\n",
        "4. Obtain Eigen values and Eigen vectors of the covariance matrix\n",
        "5. Sort the Eigen values in descending order\n",
        "6. Select k Eigen vectors with largest Eigen values which can explains max   variance of the data { By looking at Scree Plot}\n",
        "7. Project the scaled data on to Eigen Vectors {This will transform our original data to align with these Principal Component directions (which are combinations of our original variables)}\n",
        "8. Use the new Projected data for analysis\n",
        "\n",
        "\n",
        "### Load dataset to perform PCA. Here I am using Iris data set\n"
      ]
    },
    {
      "metadata": {
        "id": "ymOV6ouqZmWR",
        "colab_type": "code",
        "outputId": "bc629895-e962-4c53-dd56-4621a044a275",
        "colab": {
          "base_uri": "https://localhost:8080/",
          "height": 198
        }
      },
      "cell_type": "code",
      "source": [
        "from sklearn.datasets import load_iris\n",
        "import pandas as pd\n",
        "import numpy as np\n",
        "import warnings\n",
        "warnings.simplefilter(action='ignore', category=FutureWarning)\n",
        "\n",
        "data = load_iris()\n",
        "df = pd.DataFrame(data['data'], columns=data['feature_names'])\n",
        "df['target'] = data['target']\n",
        "df.head()"
      ],
      "execution_count": 0,
      "outputs": [
        {
          "output_type": "execute_result",
          "data": {
            "text/html": [
              "<div>\n",
              "<style scoped>\n",
              "    .dataframe tbody tr th:only-of-type {\n",
              "        vertical-align: middle;\n",
              "    }\n",
              "\n",
              "    .dataframe tbody tr th {\n",
              "        vertical-align: top;\n",
              "    }\n",
              "\n",
              "    .dataframe thead th {\n",
              "        text-align: right;\n",
              "    }\n",
              "</style>\n",
              "<table border=\"1\" class=\"dataframe\">\n",
              "  <thead>\n",
              "    <tr style=\"text-align: right;\">\n",
              "      <th></th>\n",
              "      <th>sepal length (cm)</th>\n",
              "      <th>sepal width (cm)</th>\n",
              "      <th>petal length (cm)</th>\n",
              "      <th>petal width (cm)</th>\n",
              "      <th>target</th>\n",
              "    </tr>\n",
              "  </thead>\n",
              "  <tbody>\n",
              "    <tr>\n",
              "      <th>0</th>\n",
              "      <td>5.1</td>\n",
              "      <td>3.5</td>\n",
              "      <td>1.4</td>\n",
              "      <td>0.2</td>\n",
              "      <td>0</td>\n",
              "    </tr>\n",
              "    <tr>\n",
              "      <th>1</th>\n",
              "      <td>4.9</td>\n",
              "      <td>3.0</td>\n",
              "      <td>1.4</td>\n",
              "      <td>0.2</td>\n",
              "      <td>0</td>\n",
              "    </tr>\n",
              "    <tr>\n",
              "      <th>2</th>\n",
              "      <td>4.7</td>\n",
              "      <td>3.2</td>\n",
              "      <td>1.3</td>\n",
              "      <td>0.2</td>\n",
              "      <td>0</td>\n",
              "    </tr>\n",
              "    <tr>\n",
              "      <th>3</th>\n",
              "      <td>4.6</td>\n",
              "      <td>3.1</td>\n",
              "      <td>1.5</td>\n",
              "      <td>0.2</td>\n",
              "      <td>0</td>\n",
              "    </tr>\n",
              "    <tr>\n",
              "      <th>4</th>\n",
              "      <td>5.0</td>\n",
              "      <td>3.6</td>\n",
              "      <td>1.4</td>\n",
              "      <td>0.2</td>\n",
              "      <td>0</td>\n",
              "    </tr>\n",
              "  </tbody>\n",
              "</table>\n",
              "</div>"
            ],
            "text/plain": [
              "   sepal length (cm)  sepal width (cm)  petal length (cm)  petal width (cm)  \\\n",
              "0                5.1               3.5                1.4               0.2   \n",
              "1                4.9               3.0                1.4               0.2   \n",
              "2                4.7               3.2                1.3               0.2   \n",
              "3                4.6               3.1                1.5               0.2   \n",
              "4                5.0               3.6                1.4               0.2   \n",
              "\n",
              "   target  \n",
              "0       0  \n",
              "1       0  \n",
              "2       0  \n",
              "3       0  \n",
              "4       0  "
            ]
          },
          "metadata": {
            "tags": []
          },
          "execution_count": 23
        }
      ]
    },
    {
      "metadata": {
        "id": "DH1l6gNVag7D",
        "colab_type": "text"
      },
      "cell_type": "markdown",
      "source": [
        "### Creating features and target dataframes"
      ]
    },
    {
      "metadata": {
        "id": "4RakMTL9aXcz",
        "colab_type": "code",
        "outputId": "69c2f36d-a7ca-4e21-f1b9-1bf5c9677d55",
        "colab": {
          "base_uri": "https://localhost:8080/",
          "height": 198
        }
      },
      "cell_type": "code",
      "source": [
        "df.columns = ['sepal_length', 'sepal_width', 'petal_length', 'petal_width', 'target']\n",
        "df_Ind = df[['sepal_length', 'sepal_width', 'petal_length', 'petal_width']]\n",
        "df_traget = df[['target']]\n",
        "df_Ind.head()"
      ],
      "execution_count": 0,
      "outputs": [
        {
          "output_type": "execute_result",
          "data": {
            "text/html": [
              "<div>\n",
              "<style scoped>\n",
              "    .dataframe tbody tr th:only-of-type {\n",
              "        vertical-align: middle;\n",
              "    }\n",
              "\n",
              "    .dataframe tbody tr th {\n",
              "        vertical-align: top;\n",
              "    }\n",
              "\n",
              "    .dataframe thead th {\n",
              "        text-align: right;\n",
              "    }\n",
              "</style>\n",
              "<table border=\"1\" class=\"dataframe\">\n",
              "  <thead>\n",
              "    <tr style=\"text-align: right;\">\n",
              "      <th></th>\n",
              "      <th>sepal_length</th>\n",
              "      <th>sepal_width</th>\n",
              "      <th>petal_length</th>\n",
              "      <th>petal_width</th>\n",
              "    </tr>\n",
              "  </thead>\n",
              "  <tbody>\n",
              "    <tr>\n",
              "      <th>0</th>\n",
              "      <td>5.1</td>\n",
              "      <td>3.5</td>\n",
              "      <td>1.4</td>\n",
              "      <td>0.2</td>\n",
              "    </tr>\n",
              "    <tr>\n",
              "      <th>1</th>\n",
              "      <td>4.9</td>\n",
              "      <td>3.0</td>\n",
              "      <td>1.4</td>\n",
              "      <td>0.2</td>\n",
              "    </tr>\n",
              "    <tr>\n",
              "      <th>2</th>\n",
              "      <td>4.7</td>\n",
              "      <td>3.2</td>\n",
              "      <td>1.3</td>\n",
              "      <td>0.2</td>\n",
              "    </tr>\n",
              "    <tr>\n",
              "      <th>3</th>\n",
              "      <td>4.6</td>\n",
              "      <td>3.1</td>\n",
              "      <td>1.5</td>\n",
              "      <td>0.2</td>\n",
              "    </tr>\n",
              "    <tr>\n",
              "      <th>4</th>\n",
              "      <td>5.0</td>\n",
              "      <td>3.6</td>\n",
              "      <td>1.4</td>\n",
              "      <td>0.2</td>\n",
              "    </tr>\n",
              "  </tbody>\n",
              "</table>\n",
              "</div>"
            ],
            "text/plain": [
              "   sepal_length  sepal_width  petal_length  petal_width\n",
              "0           5.1          3.5           1.4          0.2\n",
              "1           4.9          3.0           1.4          0.2\n",
              "2           4.7          3.2           1.3          0.2\n",
              "3           4.6          3.1           1.5          0.2\n",
              "4           5.0          3.6           1.4          0.2"
            ]
          },
          "metadata": {
            "tags": []
          },
          "execution_count": 24
        }
      ]
    },
    {
      "metadata": {
        "id": "uvODM3fra3vD",
        "colab_type": "text"
      },
      "cell_type": "markdown",
      "source": [
        "### Before performing PCA we need to do standard scaling of the data"
      ]
    },
    {
      "metadata": {
        "id": "Uk8M4os361AG",
        "colab_type": "code",
        "outputId": "2c92e944-9dfa-4e89-a701-a453b3ac974b",
        "colab": {
          "base_uri": "https://localhost:8080/",
          "height": 198
        }
      },
      "cell_type": "code",
      "source": [
        "df_Ind_std = (df_Ind - np.mean(df_Ind))/np.std(df_Ind)\n",
        "df_Ind_std.head()"
      ],
      "execution_count": 0,
      "outputs": [
        {
          "output_type": "execute_result",
          "data": {
            "text/html": [
              "<div>\n",
              "<style scoped>\n",
              "    .dataframe tbody tr th:only-of-type {\n",
              "        vertical-align: middle;\n",
              "    }\n",
              "\n",
              "    .dataframe tbody tr th {\n",
              "        vertical-align: top;\n",
              "    }\n",
              "\n",
              "    .dataframe thead th {\n",
              "        text-align: right;\n",
              "    }\n",
              "</style>\n",
              "<table border=\"1\" class=\"dataframe\">\n",
              "  <thead>\n",
              "    <tr style=\"text-align: right;\">\n",
              "      <th></th>\n",
              "      <th>sepal_length</th>\n",
              "      <th>sepal_width</th>\n",
              "      <th>petal_length</th>\n",
              "      <th>petal_width</th>\n",
              "    </tr>\n",
              "  </thead>\n",
              "  <tbody>\n",
              "    <tr>\n",
              "      <th>0</th>\n",
              "      <td>-0.900681</td>\n",
              "      <td>1.032057</td>\n",
              "      <td>-1.341272</td>\n",
              "      <td>-1.312977</td>\n",
              "    </tr>\n",
              "    <tr>\n",
              "      <th>1</th>\n",
              "      <td>-1.143017</td>\n",
              "      <td>-0.124958</td>\n",
              "      <td>-1.341272</td>\n",
              "      <td>-1.312977</td>\n",
              "    </tr>\n",
              "    <tr>\n",
              "      <th>2</th>\n",
              "      <td>-1.385353</td>\n",
              "      <td>0.337848</td>\n",
              "      <td>-1.398138</td>\n",
              "      <td>-1.312977</td>\n",
              "    </tr>\n",
              "    <tr>\n",
              "      <th>3</th>\n",
              "      <td>-1.506521</td>\n",
              "      <td>0.106445</td>\n",
              "      <td>-1.284407</td>\n",
              "      <td>-1.312977</td>\n",
              "    </tr>\n",
              "    <tr>\n",
              "      <th>4</th>\n",
              "      <td>-1.021849</td>\n",
              "      <td>1.263460</td>\n",
              "      <td>-1.341272</td>\n",
              "      <td>-1.312977</td>\n",
              "    </tr>\n",
              "  </tbody>\n",
              "</table>\n",
              "</div>"
            ],
            "text/plain": [
              "   sepal_length  sepal_width  petal_length  petal_width\n",
              "0     -0.900681     1.032057     -1.341272    -1.312977\n",
              "1     -1.143017    -0.124958     -1.341272    -1.312977\n",
              "2     -1.385353     0.337848     -1.398138    -1.312977\n",
              "3     -1.506521     0.106445     -1.284407    -1.312977\n",
              "4     -1.021849     1.263460     -1.341272    -1.312977"
            ]
          },
          "metadata": {
            "tags": []
          },
          "execution_count": 25
        }
      ]
    },
    {
      "metadata": {
        "id": "jc0I7wba7T2v",
        "colab_type": "text"
      },
      "cell_type": "markdown",
      "source": [
        "###Calculate the transpose of scaled data and calculate the co-variance of the transpose"
      ]
    },
    {
      "metadata": {
        "id": "dXfNVjm97UEH",
        "colab_type": "code",
        "outputId": "730653a0-c486-413a-90f4-144820807e43",
        "colab": {
          "base_uri": "https://localhost:8080/",
          "height": 90
        }
      },
      "cell_type": "code",
      "source": [
        "features = df_Ind_std.T\n",
        "cov_mat = np.dot(features,df_Ind_std)/(df_Ind_std.shape[0]-1)\n",
        "print(cov_mat)"
      ],
      "execution_count": 0,
      "outputs": [
        {
          "output_type": "stream",
          "text": [
            "[[ 1.00671141 -0.11010327  0.87760486  0.82344326]\n",
            " [-0.11010327  1.00671141 -0.42333835 -0.358937  ]\n",
            " [ 0.87760486 -0.42333835  1.00671141  0.96921855]\n",
            " [ 0.82344326 -0.358937    0.96921855  1.00671141]]\n"
          ],
          "name": "stdout"
        }
      ]
    },
    {
      "metadata": {
        "id": "2jV6NgI1E8JT",
        "colab_type": "text"
      },
      "cell_type": "markdown",
      "source": [
        "### Eigen decomposition of the covariance matrix"
      ]
    },
    {
      "metadata": {
        "id": "A-28Qvhg8S0s",
        "colab_type": "code",
        "outputId": "229dc8f4-b115-4c52-a6f3-9d62e1fbbe4b",
        "colab": {
          "base_uri": "https://localhost:8080/",
          "height": 163
        }
      },
      "cell_type": "code",
      "source": [
        "eig_vals, eig_vecs = np.linalg.eig(cov_mat)\n",
        "print('Eigenvectors \\n%s' %eig_vecs)\n",
        "print('\\nEigenvalues \\n%s' %eig_vals)"
      ],
      "execution_count": 0,
      "outputs": [
        {
          "output_type": "stream",
          "text": [
            "Eigenvectors \n",
            "[[ 0.52237162 -0.37231836 -0.72101681  0.26199559]\n",
            " [-0.26335492 -0.92555649  0.24203288 -0.12413481]\n",
            " [ 0.58125401 -0.02109478  0.14089226 -0.80115427]\n",
            " [ 0.56561105 -0.06541577  0.6338014   0.52354627]]\n",
            "\n",
            "Eigenvalues \n",
            "[2.93035378 0.92740362 0.14834223 0.02074601]\n"
          ],
          "name": "stdout"
        }
      ]
    },
    {
      "metadata": {
        "id": "bKSE1Y8nBP4g",
        "colab_type": "code",
        "outputId": "f82d4eaf-7376-4af2-e534-fb1ee7ae644a",
        "colab": {
          "base_uri": "https://localhost:8080/",
          "height": 168
        }
      },
      "cell_type": "code",
      "source": [
        "eigvals = pd.DataFrame(eig_vals, columns = ['Eig'])\n",
        "eigvals['PCs']=eigvals.reset_index().index + 1\n",
        "eigvals['Eig_perc'] = eigvals.Eig/eigvals.Eig.sum()\n",
        "eigvals['Cum_Eig'] = eigvals.Eig.cumsum()\n",
        "eigvals['Cum_perc'] = eigvals.Cum_Eig/eigvals.Eig.sum()\n",
        "eigvals.head(10)\n"
      ],
      "execution_count": 0,
      "outputs": [
        {
          "output_type": "execute_result",
          "data": {
            "text/html": [
              "<div>\n",
              "<style scoped>\n",
              "    .dataframe tbody tr th:only-of-type {\n",
              "        vertical-align: middle;\n",
              "    }\n",
              "\n",
              "    .dataframe tbody tr th {\n",
              "        vertical-align: top;\n",
              "    }\n",
              "\n",
              "    .dataframe thead th {\n",
              "        text-align: right;\n",
              "    }\n",
              "</style>\n",
              "<table border=\"1\" class=\"dataframe\">\n",
              "  <thead>\n",
              "    <tr style=\"text-align: right;\">\n",
              "      <th></th>\n",
              "      <th>Eig</th>\n",
              "      <th>PCs</th>\n",
              "      <th>Eig_perc</th>\n",
              "      <th>Cum_Eig</th>\n",
              "      <th>Cum_perc</th>\n",
              "    </tr>\n",
              "  </thead>\n",
              "  <tbody>\n",
              "    <tr>\n",
              "      <th>0</th>\n",
              "      <td>2.930354</td>\n",
              "      <td>1</td>\n",
              "      <td>0.727705</td>\n",
              "      <td>2.930354</td>\n",
              "      <td>0.727705</td>\n",
              "    </tr>\n",
              "    <tr>\n",
              "      <th>1</th>\n",
              "      <td>0.927404</td>\n",
              "      <td>2</td>\n",
              "      <td>0.230305</td>\n",
              "      <td>3.857757</td>\n",
              "      <td>0.958010</td>\n",
              "    </tr>\n",
              "    <tr>\n",
              "      <th>2</th>\n",
              "      <td>0.148342</td>\n",
              "      <td>3</td>\n",
              "      <td>0.036838</td>\n",
              "      <td>4.006100</td>\n",
              "      <td>0.994848</td>\n",
              "    </tr>\n",
              "    <tr>\n",
              "      <th>3</th>\n",
              "      <td>0.020746</td>\n",
              "      <td>4</td>\n",
              "      <td>0.005152</td>\n",
              "      <td>4.026846</td>\n",
              "      <td>1.000000</td>\n",
              "    </tr>\n",
              "  </tbody>\n",
              "</table>\n",
              "</div>"
            ],
            "text/plain": [
              "        Eig  PCs  Eig_perc   Cum_Eig  Cum_perc\n",
              "0  2.930354    1  0.727705  2.930354  0.727705\n",
              "1  0.927404    2  0.230305  3.857757  0.958010\n",
              "2  0.148342    3  0.036838  4.006100  0.994848\n",
              "3  0.020746    4  0.005152  4.026846  1.000000"
            ]
          },
          "metadata": {
            "tags": []
          },
          "execution_count": 28
        }
      ]
    },
    {
      "metadata": {
        "id": "XaT2rWeSFOHd",
        "colab_type": "text"
      },
      "cell_type": "markdown",
      "source": [
        "### Plotting the variance importance of Principal components"
      ]
    },
    {
      "metadata": {
        "id": "AjqGJpGiXDws",
        "colab_type": "code",
        "outputId": "3defee1c-f720-407a-f704-a478e5b9052e",
        "colab": {
          "base_uri": "https://localhost:8080/",
          "height": 313
        }
      },
      "cell_type": "code",
      "source": [
        "import matplotlib.pyplot as plt\n",
        "from matplotlib.ticker import MaxNLocator\n",
        "import seaborn as sns\n",
        "%matplotlib inline\n",
        "plt.figure()\n",
        "ax = plt.figure().gca()\n",
        "plt.plot('PCs', 'Eig_perc', data = eigvals, marker='o', label='Vairance',)\n",
        "plt.plot('PCs', 'Cum_perc', data = eigvals, marker='o', label='Cumulative Variance',)\n",
        "ax.xaxis.set_major_locator(MaxNLocator(integer=True))\n",
        "plt.xlabel('Principal Components')\n",
        "plt.ylabel('Proportion of Vairance')\n",
        "plt.title('Scree plot result') # title  \n",
        "plt.legend(loc='right')\n",
        "\n",
        "plt.show()\n"
      ],
      "execution_count": 0,
      "outputs": [
        {
          "output_type": "display_data",
          "data": {
            "text/plain": [
              "<matplotlib.figure.Figure at 0x7f741189bb70>"
            ]
          },
          "metadata": {
            "tags": []
          }
        },
        {
          "output_type": "display_data",
          "data": {
            "image/png": "[encoded data removed]",
            "text/plain": [
              "<matplotlib.figure.Figure at 0x7f740d3030b8>"
            ]
          },
          "metadata": {
            "tags": []
          }
        }
      ]
    },
    {
      "metadata": {
        "id": "wTOuq66WF_nG",
        "colab_type": "text"
      },
      "cell_type": "markdown",
      "source": [
        "### Projecting the data on to Principal component vectors\n"
      ]
    },
    {
      "metadata": {
        "id": "ReTsck0t8WzV",
        "colab_type": "code",
        "outputId": "5afe40a9-4134-413e-d797-1d475cce706a",
        "colab": {
          "base_uri": "https://localhost:8080/",
          "height": 198
        }
      },
      "cell_type": "code",
      "source": [
        "proj_x1 = df_Ind_std.dot(eig_vecs.T[0])\n",
        "proj_x2 = df_Ind_std.dot(eig_vecs.T[1])\n",
        "\n",
        "\n",
        "PC1 = pd.DataFrame(proj_x1, columns = ['pc1'])\n",
        "PC2 = pd.DataFrame(proj_x2, columns = ['pc2'])\n",
        "PC = pd.concat([PC1, PC2], axis=1)\n",
        "PC['label'] = df_traget\n",
        "PC.head()"
      ],
      "execution_count": 0,
      "outputs": [
        {
          "output_type": "execute_result",
          "data": {
            "text/html": [
              "<div>\n",
              "<style scoped>\n",
              "    .dataframe tbody tr th:only-of-type {\n",
              "        vertical-align: middle;\n",
              "    }\n",
              "\n",
              "    .dataframe tbody tr th {\n",
              "        vertical-align: top;\n",
              "    }\n",
              "\n",
              "    .dataframe thead th {\n",
              "        text-align: right;\n",
              "    }\n",
              "</style>\n",
              "<table border=\"1\" class=\"dataframe\">\n",
              "  <thead>\n",
              "    <tr style=\"text-align: right;\">\n",
              "      <th></th>\n",
              "      <th>pc1</th>\n",
              "      <th>pc2</th>\n",
              "      <th>label</th>\n",
              "    </tr>\n",
              "  </thead>\n",
              "  <tbody>\n",
              "    <tr>\n",
              "      <th>0</th>\n",
              "      <td>-2.264542</td>\n",
              "      <td>-0.505704</td>\n",
              "      <td>0</td>\n",
              "    </tr>\n",
              "    <tr>\n",
              "      <th>1</th>\n",
              "      <td>-2.086426</td>\n",
              "      <td>0.655405</td>\n",
              "      <td>0</td>\n",
              "    </tr>\n",
              "    <tr>\n",
              "      <th>2</th>\n",
              "      <td>-2.367950</td>\n",
              "      <td>0.318477</td>\n",
              "      <td>0</td>\n",
              "    </tr>\n",
              "    <tr>\n",
              "      <th>3</th>\n",
              "      <td>-2.304197</td>\n",
              "      <td>0.575368</td>\n",
              "      <td>0</td>\n",
              "    </tr>\n",
              "    <tr>\n",
              "      <th>4</th>\n",
              "      <td>-2.388777</td>\n",
              "      <td>-0.674767</td>\n",
              "      <td>0</td>\n",
              "    </tr>\n",
              "  </tbody>\n",
              "</table>\n",
              "</div>"
            ],
            "text/plain": [
              "        pc1       pc2  label\n",
              "0 -2.264542 -0.505704      0\n",
              "1 -2.086426  0.655405      0\n",
              "2 -2.367950  0.318477      0\n",
              "3 -2.304197  0.575368      0\n",
              "4 -2.388777 -0.674767      0"
            ]
          },
          "metadata": {
            "tags": []
          },
          "execution_count": 37
        }
      ]
    },
    {
      "metadata": {
        "id": "LmdlGKeT_mKL",
        "colab_type": "text"
      },
      "cell_type": "markdown",
      "source": [
        "### Scatter plot the Projected Principal components\n"
      ]
    },
    {
      "metadata": {
        "id": "FDmvmuCk_m7j",
        "colab_type": "code",
        "outputId": "48f322b8-cbf9-49f8-c325-910cd835212d",
        "colab": {
          "base_uri": "https://localhost:8080/",
          "height": 398
        }
      },
      "cell_type": "code",
      "source": [
        "import matplotlib.pyplot as plt\n",
        "import seaborn as sns\n",
        "%matplotlib inline\n",
        "sns.lmplot('pc1', 'pc2', data=PC, fit_reg=False,  # x-axis, y-axis, data, no line\n",
        "           scatter_kws={\"s\": 50}, # marker size\n",
        "           hue=\"label\") # color\n",
        "# title\n",
        "plt.title('PCA result')"
      ],
      "execution_count": 0,
      "outputs": [
        {
          "output_type": "execute_result",
          "data": {
            "text/plain": [
              "Text(0.5,1,'PCA result')"
            ]
          },
          "metadata": {
            "tags": []
          },
          "execution_count": 38
        },
        {
          "output_type": "display_data",
          "data": {
            "image/png": "[encoded data removed]",
            "text/plain": [
              "<matplotlib.figure.Figure at 0x7f740d34dfd0>"
            ]
          },
          "metadata": {
            "tags": []
          }
        }
      ]
    },
    {
      "metadata": {
        "id": "C2jhDGxPj2OQ",
        "colab_type": "text"
      },
      "cell_type": "markdown",
      "source": [
        "## Classification using Decision Tree algorithm on Data"
      ]
    },
    {
      "metadata": {
        "id": "yUVlcAbIdiNg",
        "colab_type": "code",
        "colab": {}
      },
      "cell_type": "code",
      "source": [
        "# importing necessary libraries  \n",
        "from sklearn.metrics import confusion_matrix \n",
        "from sklearn.model_selection import train_test_split \n",
        "  \n",
        "# dividing X, y into train and test data \n",
        "X_train, X_test, y_train, y_test = train_test_split(df_Ind, df_traget, test_size=0.2, random_state = 0) \n",
        "  \n",
        "# training a DescisionTreeClassifier \n",
        "from sklearn.tree import DecisionTreeClassifier \n",
        "dtree_model = DecisionTreeClassifier(max_depth = 2).fit(X_train, y_train) \n",
        "dtree_predictions = dtree_model.predict(X_test) \n",
        "  \n",
        "# creating a confusion matrix \n",
        "cm = confusion_matrix(y_test, dtree_predictions)"
      ],
      "execution_count": 0,
      "outputs": []
    },
    {
      "metadata": {
        "id": "e1rJJFWKhF8E",
        "colab_type": "text"
      },
      "cell_type": "markdown",
      "source": [
        "##Plot the Confusion Matrix"
      ]
    },
    {
      "metadata": {
        "id": "Z_LLoYjlhGNM",
        "colab_type": "code",
        "outputId": "5bfd1813-a4ea-4b35-b371-6ef3f03a5db3",
        "colab": {
          "base_uri": "https://localhost:8080/",
          "height": 476
        }
      },
      "cell_type": "code",
      "source": [
        "# Plot a confusion matrix.\n",
        "from sklearn.metrics import confusion_matrix\n",
        "from sklearn import preprocessing\n",
        "# cm is the confusion matrix, names are the names of the classes.\n",
        "def plot_confusion_matrix(cm, names, title='Confusion matrix', cmap=plt.cm.Blues):\n",
        "    plt.imshow(cm, interpolation='nearest', cmap=cmap)\n",
        "    plt.title(title)\n",
        "    plt.colorbar()\n",
        "    tick_marks = np.arange(len(names))\n",
        "    plt.xticks(tick_marks, names, rotation=45)\n",
        "    plt.yticks(tick_marks, names)\n",
        "    plt.tight_layout()\n",
        "    plt.ylabel('True label')\n",
        "    plt.xlabel('Predicted label')\n",
        "    \n",
        "# Encode text values to indexes(i.e. [1],[2],[3] for red,green,blue).\n",
        "def encode_text_index(df, name):\n",
        "    le = preprocessing.LabelEncoder()\n",
        "    df[name] = le.fit_transform(df[name])\n",
        "    return le.classes_\n",
        "\n",
        "T_Labels = encode_text_index(df_traget, 'target')\n",
        "\n",
        "plt.figure()\n",
        "plot_confusion_matrix(cm, T_Labels)\n",
        "print(cm)"
      ],
      "execution_count": 0,
      "outputs": [
        {
          "output_type": "stream",
          "text": [
            "[[11  0  0]\n",
            " [ 0 13  0]\n",
            " [ 0  1  5]]\n"
          ],
          "name": "stdout"
        },
        {
          "output_type": "stream",
          "text": [
            "/usr/local/lib/python3.6/dist-packages/ipykernel_launcher.py:18: SettingWithCopyWarning: \n",
            "A value is trying to be set on a copy of a slice from a DataFrame.\n",
            "Try using .loc[row_indexer,col_indexer] = value instead\n",
            "\n",
            "See the caveats in the documentation: http://pandas.pydata.org/pandas-docs/stable/indexing.html#indexing-view-versus-copy\n"
          ],
          "name": "stderr"
        },
        {
          "output_type": "display_data",
          "data": {
            "image/png": "[encoded data removed]",
            "text/plain": [
              "<matplotlib.figure.Figure at 0x7f740b844588>"
            ]
          },
          "metadata": {
            "tags": []
          }
        }
      ]
    },
    {
      "metadata": {
        "id": "WoScmbPDkkDO",
        "colab_type": "text"
      },
      "cell_type": "markdown",
      "source": [
        "## Using Principal Component Analysis data for Training and Testing a New Model"
      ]
    },
    {
      "metadata": {
        "id": "W-8emN05i3gr",
        "colab_type": "code",
        "outputId": "f233947d-6087-407f-c976-0b8b9b11fa69",
        "colab": {
          "base_uri": "https://localhost:8080/",
          "height": 365
        }
      },
      "cell_type": "code",
      "source": [
        "# dividing X, y into train and test data \n",
        "X_PCtrain, X_PCtest, y_PCtrain, y_PCtest = train_test_split(PC[['pc1', 'pc2']], PC[['label']], test_size=0.2, random_state = 0) \n",
        "  \n",
        "# training a DescisionTreeClassifier \n",
        "from sklearn.tree import DecisionTreeClassifier \n",
        "pdtree_model = DecisionTreeClassifier(max_depth = 2).fit(X_PCtrain, y_PCtrain) \n",
        "pdtree_predictions = pdtree_model.predict(X_PCtest) \n",
        "  \n",
        "# creating a confusion matrix \n",
        "pcm = confusion_matrix(y_PCtest, pdtree_predictions)\n",
        "\n",
        "plt.figure()\n",
        "plot_confusion_matrix(pcm, T_Labels)\n",
        "print(pcm)"
      ],
      "execution_count": 0,
      "outputs": [
        {
          "output_type": "stream",
          "text": [
            "[[11  0  0]\n",
            " [ 0 12  1]\n",
            " [ 0  3  3]]\n"
          ],
          "name": "stdout"
        },
        {
          "output_type": "display_data",
          "data": {
            "image/png": "[encoded data removed]",
            "text/plain": [
              "<matplotlib.figure.Figure at 0x7f740d37f898>"
            ]
          },
          "metadata": {
            "tags": []
          }
        }
      ]
    },
    {
      "metadata": {
        "id": "kd_s498bIXIp",
        "colab_type": "text"
      },
      "cell_type": "markdown",
      "source": [
        "### Validate using sklearn PCA function"
      ]
    },
    {
      "metadata": {
        "id": "sR9kAWKx2cLV",
        "colab_type": "code",
        "outputId": "e71dc730-ce96-4ab9-8c70-00b49c2bddeb",
        "colab": {
          "base_uri": "https://localhost:8080/",
          "height": 198
        }
      },
      "cell_type": "code",
      "source": [
        "from sklearn.decomposition import PCA\n",
        "pca = PCA(n_components=2)\n",
        "principalComponents = pca.fit_transform(df_Ind_std)\n",
        "principalDf = pd.DataFrame(data = principalComponents\n",
        "             , columns = ['principal_component_1', 'principal_component_2'])\n",
        "\n",
        "finalDf = pd.concat([principalDf, df[['target']]], axis = 1)\n",
        "finalDf.head()"
      ],
      "execution_count": 0,
      "outputs": [
        {
          "output_type": "execute_result",
          "data": {
            "text/html": [
              "<div>\n",
              "<style scoped>\n",
              "    .dataframe tbody tr th:only-of-type {\n",
              "        vertical-align: middle;\n",
              "    }\n",
              "\n",
              "    .dataframe tbody tr th {\n",
              "        vertical-align: top;\n",
              "    }\n",
              "\n",
              "    .dataframe thead th {\n",
              "        text-align: right;\n",
              "    }\n",
              "</style>\n",
              "<table border=\"1\" class=\"dataframe\">\n",
              "  <thead>\n",
              "    <tr style=\"text-align: right;\">\n",
              "      <th></th>\n",
              "      <th>principal_component_1</th>\n",
              "      <th>principal_component_2</th>\n",
              "      <th>target</th>\n",
              "    </tr>\n",
              "  </thead>\n",
              "  <tbody>\n",
              "    <tr>\n",
              "      <th>0</th>\n",
              "      <td>-2.264542</td>\n",
              "      <td>0.505704</td>\n",
              "      <td>0</td>\n",
              "    </tr>\n",
              "    <tr>\n",
              "      <th>1</th>\n",
              "      <td>-2.086426</td>\n",
              "      <td>-0.655405</td>\n",
              "      <td>0</td>\n",
              "    </tr>\n",
              "    <tr>\n",
              "      <th>2</th>\n",
              "      <td>-2.367950</td>\n",
              "      <td>-0.318477</td>\n",
              "      <td>0</td>\n",
              "    </tr>\n",
              "    <tr>\n",
              "      <th>3</th>\n",
              "      <td>-2.304197</td>\n",
              "      <td>-0.575368</td>\n",
              "      <td>0</td>\n",
              "    </tr>\n",
              "    <tr>\n",
              "      <th>4</th>\n",
              "      <td>-2.388777</td>\n",
              "      <td>0.674767</td>\n",
              "      <td>0</td>\n",
              "    </tr>\n",
              "  </tbody>\n",
              "</table>\n",
              "</div>"
            ],
            "text/plain": [
              "   principal_component_1  principal_component_2  target\n",
              "0              -2.264542               0.505704       0\n",
              "1              -2.086426              -0.655405       0\n",
              "2              -2.367950              -0.318477       0\n",
              "3              -2.304197              -0.575368       0\n",
              "4              -2.388777               0.674767       0"
            ]
          },
          "metadata": {
            "tags": []
          },
          "execution_count": 42
        }
      ]
    },
    {
      "metadata": {
        "id": "Z7g1UsS83fTq",
        "colab_type": "code",
        "outputId": "109039f1-2056-451a-8662-f3788de7b6df",
        "colab": {
          "base_uri": "https://localhost:8080/",
          "height": 398
        }
      },
      "cell_type": "code",
      "source": [
        "import matplotlib.pyplot as plt\n",
        "import seaborn as sns\n",
        "%matplotlib inline\n",
        "sns.lmplot('principal_component_1', 'principal_component_2', data=finalDf, fit_reg=False,  # x-axis, y-axis, data, no line\n",
        "           scatter_kws={\"s\": 50}, # marker size\n",
        "           hue=\"target\") # color\n",
        "# title\n",
        "plt.title('PCA result from sklearn PCA')"
      ],
      "execution_count": 0,
      "outputs": [
        {
          "output_type": "execute_result",
          "data": {
            "text/plain": [
              "Text(0.5,1,'PCA result from sklearn PCA')"
            ]
          },
          "metadata": {
            "tags": []
          },
          "execution_count": 43
        },
        {
          "output_type": "display_data",
          "data": {
            "image/png": "[encoded data removed]",
            "text/plain": [
              "<matplotlib.figure.Figure at 0x7f740b844940>"
            ]
          },
          "metadata": {
            "tags": []
          }
        }
      ]
    }
  ]
}